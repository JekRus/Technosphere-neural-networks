{
 "cells": [
  {
   "cell_type": "markdown",
   "metadata": {},
   "source": [
    "## Семинар 5: \"Улучшение сходимости нейросетей\""
   ]
  },
  {
   "cell_type": "markdown",
   "metadata": {},
   "source": [
    "ФИО: Елохов Артур Владимирович"
   ]
  },
  {
   "cell_type": "code",
   "execution_count": 1,
   "metadata": {
    "collapsed": true
   },
   "outputs": [],
   "source": [
    "import numpy as np\n",
    "from sklearn.datasets import fetch_mldata\n",
    "from sklearn.model_selection import train_test_split\n",
    "import matplotlib.pyplot as plt\n",
    "import torch\n",
    "from torch import nn\n",
    "from torch.autograd import Variable\n",
    "from torch.utils.data import DataLoader\n",
    "from torchvision.datasets import MNIST\n",
    "from torchvision import transforms\n",
    "\n",
    "%matplotlib inline"
   ]
  },
  {
   "cell_type": "markdown",
   "metadata": {},
   "source": [
    "На этом семинаре мы попробуем улучшить результаты, полученные на предыдущем занятии\n",
    "Для этого нам понадобятся следующие вещи:\n",
    "* Dropout\n",
    "* Batch Normalization\n",
    "* Инициализация весов"
   ]
  },
  {
   "cell_type": "markdown",
   "metadata": {},
   "source": [
    "### Часть 1: Инициализация весов"
   ]
  },
  {
   "cell_type": "markdown",
   "metadata": {},
   "source": [
    "На лекции доказывалось, что при инициализации He и Glorot дисперсия активаций градиентов в каждом слое будут примерно равны. Давайте проверим это. "
   ]
  },
  {
   "cell_type": "code",
   "execution_count": 2,
   "metadata": {
    "collapsed": true
   },
   "outputs": [],
   "source": [
    "# Dataloader\n",
    "to_numpy = lambda x: x.numpy()\n",
    "transform = transforms.Compose([\n",
    "                       transforms.ToTensor(),\n",
    "                       transforms.Normalize((0.1307,), (0.3081,))\n",
    "                    ])\n",
    "train_dataset = MNIST('.', train=True, download=True, transform=transforms.ToTensor())\n",
    "test_dataset = MNIST('.', train=False, transform=transforms.ToTensor())\n",
    "\n",
    "train_loader = DataLoader(train_dataset, batch_size=32, shuffle=True)\n",
    "test_loader = DataLoader(test_dataset, batch_size=32, shuffle=True)"
   ]
  },
  {
   "cell_type": "code",
   "execution_count": 3,
   "metadata": {},
   "outputs": [
    {
     "name": "stdout",
     "output_type": "stream",
     "text": [
      "torch.Size([1, 28, 28])\n"
     ]
    }
   ],
   "source": [
    "for X,y in train_dataset:\n",
    "    print X.shape\n",
    "    break"
   ]
  },
  {
   "cell_type": "code",
   "execution_count": 4,
   "metadata": {
    "collapsed": true
   },
   "outputs": [],
   "source": [
    "## Usage example:\n",
    "for X, y in train_loader:\n",
    "    X = X.view(X.size(0), -1)\n",
    "    X = X.numpy() ### Converts torch.Tensor to numpy array\n",
    "    y = y.numpy()\n",
    "    pass"
   ]
  },
  {
   "cell_type": "code",
   "execution_count": 5,
   "metadata": {},
   "outputs": [
    {
     "data": {
      "image/png": "[encoded data removed]",
      "text/plain": [
       "<matplotlib.figure.Figure at 0x7f5b5ad70610>"
      ]
     },
     "metadata": {},
     "output_type": "display_data"
    }
   ],
   "source": [
    "plt.figure(figsize=(6, 7))\n",
    "for i in range(25):\n",
    "    plt.subplot(5, 5, i+1)\n",
    "    plt.imshow(X[i].reshape(28, 28), cmap=plt.cm.Greys_r)\n",
    "    plt.title(y[i])\n",
    "    plt.axis('off')"
   ]
  },
  {
   "cell_type": "markdown",
   "metadata": {},
   "source": [
    "<i> 1.1 </i> Инициализируйте полносвязную сеть нормальным шумом N(0, 0.1) с архитектурой 784 -> 500 x (10 раз) -> 10. В качестве активации возьмите tanh"
   ]
  },
  {
   "cell_type": "code",
   "execution_count": 6,
   "metadata": {
    "collapsed": true
   },
   "outputs": [],
   "source": [
    "def init_layer(layer, mean=0, std=1):\n",
    "    # Тут надо быть аккуратным — можно случайно создать копию и менять значения у копии\n",
    "    weight = layer.state_dict()['weight']\n",
    "    bias = layer.state_dict()['bias']\n",
    "    bias.zero_()\n",
    "    weight.normal_(mean=0, std=1)\n",
    "\n",
    "    \n",
    "def init_layer_xavier(layer, n_i, n_i1):\n",
    "    weight = layer.state_dict()['weight']\n",
    "    bias = layer.state_dict()['bias']\n",
    "    bias.zero_()\n",
    "    border = (6.0/float(n_i + n_i1))**0.5\n",
    "    weight.uniform_(-border, border)\n",
    "    \n",
    "def init_layer_he(layer, n_i):\n",
    "    weight = layer.state_dict()['weight']\n",
    "    bias = layer.state_dict()['bias']\n",
    "    bias.zero_()\n",
    "    weight.normal_(mean=0, std=2.0/float(n_i))\n",
    "    \n",
    "def forward_hook(self, input_, output):\n",
    "    std = input_[0].std().data[0]\n",
    "    print 'forward', std\n",
    "\n",
    "def backward_hook(self, grad_input, grad_output):\n",
    "    if grad_input[1] is not None:\n",
    "        std = grad_input[1].std().data[0]\n",
    "        print 'backward', std\n",
    "\n",
    "    \n",
    "# пример:\n",
    "layer = nn.Linear(28*28, 10)\n",
    "layer.register_forward_hook(forward_hook)\n",
    "layer.register_backward_hook(backward_hook)\n",
    "init_layer(layer, 0.0, 0.1) # сюда надо подставить другие параметры"
   ]
  },
  {
   "cell_type": "code",
   "execution_count": 7,
   "metadata": {
    "collapsed": true
   },
   "outputs": [],
   "source": [
    "net = torch.nn.Sequential(torch.nn.Linear(784, 500),\n",
    "                         torch.nn.Tanh(),\n",
    "                         torch.nn.Linear(500, 500),\n",
    "                         torch.nn.Tanh(),\n",
    "                         torch.nn.Linear(500, 500),\n",
    "                         torch.nn.Tanh(),\n",
    "                         torch.nn.Linear(500, 500),\n",
    "                         torch.nn.Tanh(),\n",
    "                         torch.nn.Linear(500, 500),\n",
    "                         torch.nn.Tanh(),\n",
    "                         torch.nn.Linear(500, 500),\n",
    "                         torch.nn.Tanh(),\n",
    "                         torch.nn.Linear(500, 500),\n",
    "                         torch.nn.Tanh(),\n",
    "                         torch.nn.Linear(500, 500),\n",
    "                         torch.nn.Tanh(),\n",
    "                         torch.nn.Linear(500, 500),\n",
    "                         torch.nn.Tanh(),\n",
    "                         torch.nn.Linear(500, 500),\n",
    "                         torch.nn.Tanh(),\n",
    "                         torch.nn.Linear(500, 500),\n",
    "                         torch.nn.Tanh(),\n",
    "                         torch.nn.Linear(500, 10))"
   ]
  },
  {
   "cell_type": "code",
   "execution_count": 8,
   "metadata": {
    "collapsed": true
   },
   "outputs": [],
   "source": [
    "for layer in net:\n",
    "    if('weight' in layer.state_dict()):\n",
    "        init_layer(layer, 0.0, 0.1)\n",
    "        layer.register_forward_hook(forward_hook)\n",
    "        layer.register_backward_hook(backward_hook)"
   ]
  },
  {
   "cell_type": "markdown",
   "metadata": {},
   "source": [
    "<i>1.2 Пропустите батч изображений через нейронную сеть и вычислите дисперсию активаций. Затем вычислите градиент и получите дисперсию градиентов. Сравните эти значения между собой для разных слоев.</i>"
   ]
  },
  {
   "cell_type": "code",
   "execution_count": 9,
   "metadata": {},
   "outputs": [
    {
     "name": "stdout",
     "output_type": "stream",
     "text": [
      "forward 0.301143735647\n",
      "forward 0.952827990055\n",
      "forward 0.980920672417\n",
      "forward 0.981116294861\n",
      "forward 0.981564104557\n",
      "forward 0.982216358185\n",
      "forward 0.98219537735\n",
      "forward 0.981432378292\n",
      "forward 0.982035934925\n",
      "forward 0.981724619865\n",
      "forward 0.982281506062\n",
      "forward 0.981489539146\n",
      "backward 0.0132968304679\n",
      "backward 0.0461000353098\n",
      "backward 0.152607545257\n",
      "backward 0.531944513321\n",
      "backward 1.78748226166\n",
      "backward 6.10222101212\n",
      "backward 20.0813312531\n",
      "backward 68.4170455933\n",
      "backward 228.596252441\n",
      "backward 773.848632812\n",
      "backward 2661.38964844\n"
     ]
    }
   ],
   "source": [
    "##### YOUR CODE HERE #####\n",
    "\n",
    "#пример:\n",
    "loss_fn = torch.nn.CrossEntropyLoss()\n",
    "learning_rate = 10e-2\n",
    "n_objects = 100\n",
    "train_loader = DataLoader(train_dataset, batch_size=n_objects, shuffle=True)\n",
    "for X, y in train_loader:\n",
    "    X = Variable(X).view(n_objects, -1)\n",
    "    y = Variable(y, requires_grad=False)\n",
    "    L = []\n",
    "    result = net(X)\n",
    "    loss = loss_fn(result, y)\n",
    "    net.zero_grad()\n",
    "    loss.backward()\n",
    "    for param in net.parameters():\n",
    "        param.data -= learning_rate * param.grad.data\n",
    "    \n",
    "    break"
   ]
  },
  {
   "cell_type": "markdown",
   "metadata": {},
   "source": [
    "<i>1.3 Повторите эксперимент для инициализаций He и Xavier (формулы есть в лекции).</i>"
   ]
  },
  {
   "cell_type": "code",
   "execution_count": 10,
   "metadata": {
    "collapsed": true
   },
   "outputs": [],
   "source": [
    "net = torch.nn.Sequential(torch.nn.Linear(784, 500),\n",
    "                         torch.nn.Tanh(),\n",
    "                         torch.nn.Linear(500, 500),\n",
    "                         torch.nn.Tanh(),\n",
    "                         torch.nn.Linear(500, 500),\n",
    "                         torch.nn.Tanh(),\n",
    "                         torch.nn.Linear(500, 500),\n",
    "                         torch.nn.Tanh(),\n",
    "                         torch.nn.Linear(500, 500),\n",
    "                         torch.nn.Tanh(),\n",
    "                         torch.nn.Linear(500, 500),\n",
    "                         torch.nn.Tanh(),\n",
    "                         torch.nn.Linear(500, 500),\n",
    "                         torch.nn.Tanh(),\n",
    "                         torch.nn.Linear(500, 500),\n",
    "                         torch.nn.Tanh(),\n",
    "                         torch.nn.Linear(500, 500),\n",
    "                         torch.nn.Tanh(),\n",
    "                         torch.nn.Linear(500, 500),\n",
    "                         torch.nn.Tanh(),\n",
    "                         torch.nn.Linear(500, 500),\n",
    "                         torch.nn.Tanh(),\n",
    "                         torch.nn.Linear(500, 10))"
   ]
  },
  {
   "cell_type": "code",
   "execution_count": 11,
   "metadata": {
    "collapsed": true
   },
   "outputs": [],
   "source": [
    "##### YOUR CODE HERE #####\n",
    "###Xavier\n",
    "last_layer = 22\n",
    "sizes = [500] * 11\n",
    "for idx, layer in enumerate(net):\n",
    "    if('weight' in layer.state_dict()):\n",
    "        if idx == last_layer:\n",
    "            n_i = n_i1 = 10\n",
    "        elif idx == last_layer - 2:\n",
    "            n_i = 500\n",
    "            n_i1 = 10\n",
    "        else:\n",
    "            n_i = n_i1 = 500\n",
    "        init_layer_xavier(layer, n_i, n_i1)\n",
    "        layer.register_forward_hook(forward_hook)\n",
    "        layer.register_backward_hook(backward_hook)"
   ]
  },
  {
   "cell_type": "code",
   "execution_count": 12,
   "metadata": {},
   "outputs": [
    {
     "name": "stdout",
     "output_type": "stream",
     "text": [
      "forward 0.305071592331\n",
      "forward 0.360704362392\n",
      "forward 0.323095709085\n",
      "forward 0.29060921073\n",
      "forward 0.269361108541\n",
      "forward 0.253074526787\n",
      "forward 0.239549577236\n",
      "forward 0.227396428585\n",
      "forward 0.215272694826\n",
      "forward 0.209102243185\n",
      "forward 0.20493850112\n",
      "forward 0.267936825752\n",
      "backward 0.00340253370814\n",
      "backward 0.00440144445747\n",
      "backward 0.00420086272061\n",
      "backward 0.00397914880887\n",
      "backward 0.00376334786415\n",
      "backward 0.00356809305958\n",
      "backward 0.00342565192841\n",
      "backward 0.00321793346666\n",
      "backward 0.00303581985645\n",
      "backward 0.0028005221393\n",
      "backward 0.00258357170969\n"
     ]
    }
   ],
   "source": [
    "train_loader = DataLoader(train_dataset, batch_size=n_objects, shuffle=True)\n",
    "for X, y in train_loader:\n",
    "    X = Variable(X).view(n_objects, -1)\n",
    "    y = Variable(y, requires_grad=False)\n",
    "    L = []\n",
    "    result = net(X)\n",
    "    loss = loss_fn(result, y)\n",
    "    net.zero_grad()\n",
    "    loss.backward()\n",
    "    for param in net.parameters():\n",
    "        param.data -= learning_rate * param.grad.data\n",
    "    break"
   ]
  },
  {
   "cell_type": "code",
   "execution_count": 13,
   "metadata": {
    "collapsed": true
   },
   "outputs": [],
   "source": [
    "net = torch.nn.Sequential(torch.nn.Linear(784, 500),\n",
    "                         torch.nn.ReLU(),\n",
    "                         torch.nn.Linear(500, 500),\n",
    "                         torch.nn.ReLU(),\n",
    "                         torch.nn.Linear(500, 500),\n",
    "                         torch.nn.ReLU(),\n",
    "                         torch.nn.Linear(500, 500),\n",
    "                         torch.nn.ReLU(),\n",
    "                         torch.nn.Linear(500, 500),\n",
    "                         torch.nn.ReLU(),\n",
    "                         torch.nn.Linear(500, 500),\n",
    "                         torch.nn.ReLU(),\n",
    "                         torch.nn.Linear(500, 500),\n",
    "                         torch.nn.ReLU(),\n",
    "                         torch.nn.Linear(500, 500),\n",
    "                         torch.nn.ReLU(),\n",
    "                         torch.nn.Linear(500, 500),\n",
    "                         torch.nn.ReLU(),\n",
    "                         torch.nn.Linear(500, 500),\n",
    "                         torch.nn.ReLU(),\n",
    "                         torch.nn.Linear(500, 500),\n",
    "                         torch.nn.ReLU(),\n",
    "                         torch.nn.Linear(500, 10))"
   ]
  },
  {
   "cell_type": "code",
   "execution_count": 14,
   "metadata": {
    "collapsed": true
   },
   "outputs": [],
   "source": [
    "###Xavier\n",
    "last_layer = 22\n",
    "sizes = [500] * 11\n",
    "for idx, layer in enumerate(net):\n",
    "    if('weight' in layer.state_dict()):\n",
    "        if idx == last_layer:\n",
    "            n_i = 10\n",
    "        else:\n",
    "            n_i = 500\n",
    "        init_layer_he(layer, n_i)\n",
    "        layer.register_forward_hook(forward_hook)\n",
    "        layer.register_backward_hook(backward_hook)"
   ]
  },
  {
   "cell_type": "code",
   "execution_count": 15,
   "metadata": {},
   "outputs": [
    {
     "name": "stdout",
     "output_type": "stream",
     "text": [
      "forward 0.31010144949\n",
      "forward 0.0216779224575\n",
      "forward 0.00137976952828\n",
      "forward 8.52917291922e-05\n",
      "forward 5.62353443456e-06\n",
      "forward 3.67936223711e-07\n",
      "forward 2.24670149152e-08\n",
      "forward 1.45130074625e-09\n",
      "forward 9.35279215186e-11\n",
      "forward 6.16363991096e-12\n",
      "forward 4.06437849956e-13\n",
      "forward 2.83033958683e-14\n",
      "backward 0.00189508893527\n",
      "backward 0.000125991820823\n",
      "backward 7.87341559771e-06\n",
      "backward 4.95199230954e-07\n",
      "backward 3.13992281065e-08\n",
      "backward 2.04098671297e-09\n",
      "backward 1.27065122313e-10\n",
      "backward 8.17385308743e-12\n",
      "backward 5.23447984176e-13\n",
      "backward 3.32342592574e-14\n",
      "backward 2.1235960903e-15\n"
     ]
    }
   ],
   "source": [
    "train_loader = DataLoader(train_dataset, batch_size=n_objects, shuffle=True)\n",
    "for X, y in train_loader:\n",
    "    X = Variable(X).view(n_objects, -1)\n",
    "    y = Variable(y, requires_grad=False)\n",
    "    L = []\n",
    "    result = net(X)\n",
    "    loss = loss_fn(result, y)\n",
    "    net.zero_grad()\n",
    "    loss.backward()\n",
    "    for param in net.parameters():\n",
    "        param.data -= learning_rate * param.grad.data\n",
    "    break"
   ]
  },
  {
   "cell_type": "markdown",
   "metadata": {},
   "source": [
    "<i> 1.4 Сделайте выводы по первой части </i>"
   ]
  },
  {
   "cell_type": "markdown",
   "metadata": {},
   "source": [
    "Инициализация Xavier помогла поддержать постоянное значение дисперсии. Инициализация He практически занулила дисперсию."
   ]
  },
  {
   "cell_type": "markdown",
   "metadata": {},
   "source": [
    "### Часть 2: Dropout"
   ]
  },
  {
   "cell_type": "markdown",
   "metadata": {},
   "source": [
    "Другим полезным слоем является Dropout. В нем с вероятностью 1-p зануляется выход каждого нейрона. Этот слой уже реализован в pyTorch, поэтому вновь реализовывать его не интересно. Давайте реализуем DropConnect — аналог Dropout. В нем с вероятностью 1-p зануляется каждый вес слоя."
   ]
  },
  {
   "cell_type": "markdown",
   "metadata": {},
   "source": [
    "<i> 2.1 Реализуйте линейный слой с DropConnect </i>"
   ]
  },
  {
   "cell_type": "code",
   "execution_count": 16,
   "metadata": {
    "collapsed": true
   },
   "outputs": [],
   "source": [
    "# полезная функция: .bernoulli_(p)\n",
    "# не забывайте делать requires_grad=False у маски\n",
    "# помните, что в вычислениях должны участвовать Variable, а не тензоры\n",
    "# не забывайте, что в pyTorch нету broadcasting (делайте .expand)\n",
    "\n",
    "class DropConnect(nn.Module):\n",
    "    def __init__(self, input_dim, output_dim, p=0.5):\n",
    "        super(DropConnect, self).__init__()\n",
    "        self.weight = nn.Parameter(torch.Tensor(input_dim, output_dim).normal_(mean=0, std=0.01), requires_grad=True)\n",
    "        self.bias = nn.Parameter(torch.Tensor(1, output_dim).zero_(), requires_grad=True)\n",
    "        self.p = p\n",
    "\n",
    "    def forward(self, x):\n",
    "        expanded_weight = torch.cat((self.weight, self.bias))\n",
    "        ones = Variable(-torch.ones(x.data.shape[0] , 1), requires_grad=False)\n",
    "        expanded_x = torch.cat((x, ones), 1)\n",
    "        mask = torch.Tensor(expanded_weight.size())\n",
    "        if(self.training):\n",
    "            mask.bernoulli_(1 - self.p)\n",
    "        else:\n",
    "            mask.fill_(self.p)\n",
    "        mask = Variable(mask, requires_grad=False)\n",
    "        output = torch.mm(expanded_x, torch.mul(expanded_weight, mask))\n",
    "        return output"
   ]
  },
  {
   "cell_type": "markdown",
   "metadata": {},
   "source": [
    "<i> \n",
    "2.2 Сравните графики обучения нейроных сетей:\n",
    "1. 784 -> 200 -> 200 -> 10 с ReLU и Dropout между всеми слоями \n",
    "2. 784 -> 200 -> 200 -> 10 с ReLU DropConnect вместо всех линейных слоев\n",
    "</i>"
   ]
  },
  {
   "cell_type": "code",
   "execution_count": 17,
   "metadata": {
    "collapsed": true
   },
   "outputs": [],
   "source": [
    "##### YOUR CODE HERE #####\n",
    "class Model_dropout(nn.Module):\n",
    "    def __init__(self):\n",
    "        super(Model_dropout, self).__init__()\n",
    "        self.model = nn.Sequential(nn.Linear(784, 200), \n",
    "                                     nn.Dropout(),\n",
    "                                     nn.ReLU(),\n",
    "                                     nn.Linear(200, 200),\n",
    "                                     nn.Dropout(),\n",
    "                                     nn.ReLU(),\n",
    "                                     nn.Linear(200, 10))\n",
    "    \n",
    "    def forward(self, x):\n",
    "        return self.model(x)\n",
    "    \n",
    "\n",
    "class Model_dropconnect(nn.Module):\n",
    "    def __init__(self):\n",
    "        super(Model_dropconnect, self).__init__()\n",
    "        self.model = nn.Sequential(DropConnect(784, 200),\n",
    "                                   nn.ReLU(),\n",
    "                                   DropConnect(200, 200),\n",
    "                                   nn.ReLU(),\n",
    "                                   nn.Linear(200, 10))\n",
    "    \n",
    "    def forward(self, x):\n",
    "        return self.model(x)"
   ]
  },
  {
   "cell_type": "code",
   "execution_count": 78,
   "metadata": {
    "collapsed": true
   },
   "outputs": [],
   "source": [
    "train_loader = DataLoader(train_dataset, batch_size=32, shuffle=True)\n",
    "test_loader = DataLoader(test_dataset, batch_size=32, shuffle=True)"
   ]
  },
  {
   "cell_type": "code",
   "execution_count": 19,
   "metadata": {
    "collapsed": true
   },
   "outputs": [],
   "source": [
    "def apply_net(model, train, test, Epoch, learning_rate=0.01):\n",
    "    loss_fn = torch.nn.CrossEntropyLoss(size_average=False)\n",
    "    optimizer = torch.optim.Adam(model.parameters(), lr=learning_rate) \n",
    "    Loss_train = []\n",
    "    Loss_test = []\n",
    "    for epoch in xrange(Epoch):\n",
    "        batch_losses_train = []\n",
    "        batch_losses_test = []\n",
    "        for X, y in train:\n",
    "            X = Variable(X.view(X.size(0), -1))\n",
    "            y = Variable(y.view(y.size(0), -1), requires_grad=False)\n",
    "            result = model(X)\n",
    "            loss = loss_fn(result, y.squeeze())\n",
    "            batch_losses_train.append(loss.data[0])\n",
    "            optimizer.zero_grad()\n",
    "            loss.backward()\n",
    "            optimizer.step()\n",
    "        for X, y in test:\n",
    "            X = Variable(X.view(X.size(0), -1))\n",
    "            y = Variable(y.view(y.size(0), -1), requires_grad=False)\n",
    "            result = model(X)\n",
    "            loss = loss_fn(result, y.squeeze())\n",
    "            batch_losses_test.append(loss.data[0])\n",
    "        Loss_train.append(sum(batch_losses_train)/len(batch_losses_train))\n",
    "        Loss_test.append(sum(batch_losses_test)/len(batch_losses_test))\n",
    "    axis_x = np.arange(1, Epoch + 1)\n",
    "    axis_y1 = np.array(Loss_train)\n",
    "    axis_y2 = np.array(Loss_test)\n",
    "    with plt.style.context(('ggplot')):\n",
    "        plt.figure(figsize=(20,8))\n",
    "        plt.plot(axis_x, axis_y1, linewidth=2.0)\n",
    "        plt.plot(axis_x, axis_y2, linewidth=2.0)\n",
    "        plt.xlabel('Epoch')\n",
    "        plt.ylabel('NLL')\n",
    "        plt.legend(['train', 'test'])\n",
    "        plt.show()\n",
    "    Scores = []\n",
    "    model.eval()\n",
    "    for X, y in test:\n",
    "        X = Variable(X.view(X.size(0), -1))\n",
    "        y = Variable(y.view(y.size(0), -1), requires_grad=False)\n",
    "        result = model(X)\n",
    "        Scores.append(accuracy_score(y.data.numpy(), np.argmax(result.data.numpy(), axis=1)))\n",
    "    print(\"Accuracy: %f\" %(sum(Scores)/len(Scores)))\n",
    "    return"
   ]
  },
  {
   "cell_type": "code",
   "execution_count": 20,
   "metadata": {
    "collapsed": true
   },
   "outputs": [],
   "source": [
    "from sklearn.metrics import accuracy_score, mean_squared_error"
   ]
  },
  {
   "cell_type": "code",
   "execution_count": 23,
   "metadata": {},
   "outputs": [
    {
     "data": {
      "image/png": "[encoded data removed]",
      "text/plain": [
       "<matplotlib.figure.Figure at 0x7fdd1ef25dd0>"
      ]
     },
     "metadata": {},
     "output_type": "display_data"
    },
    {
     "name": "stdout",
     "output_type": "stream",
     "text": [
      "Accuracy: 0.976438\n"
     ]
    }
   ],
   "source": [
    "model = Model_dropout()\n",
    "apply_net(model, train_loader, test_loader, Epoch=10, learning_rate=0.001)"
   ]
  },
  {
   "cell_type": "code",
   "execution_count": 24,
   "metadata": {},
   "outputs": [
    {
     "data": {
      "image/png": "[encoded data removed]",
      "text/plain": [
       "<matplotlib.figure.Figure at 0x7fdd03fc7d90>"
      ]
     },
     "metadata": {},
     "output_type": "display_data"
    },
    {
     "name": "stdout",
     "output_type": "stream",
     "text": [
      "Accuracy: 0.978235\n"
     ]
    }
   ],
   "source": [
    "model = Model_dropconnect()\n",
    "apply_net(model, train_loader, test_loader, Epoch=10, learning_rate=0.001)"
   ]
  },
  {
   "cell_type": "markdown",
   "metadata": {},
   "source": [
    "<i> 2.3 Сделайте выводы по второй части </i>"
   ]
  },
  {
   "cell_type": "markdown",
   "metadata": {},
   "source": [
    "В целом, Dropout и Dropconnect работают почти одинаково с точки зрения точности и скорости сходимости. Dropconnect немного лучше."
   ]
  },
  {
   "cell_type": "markdown",
   "metadata": {},
   "source": [
    "В test-time стохастичность Dropout убирают и заменяют все веса на их ожидаемое значение: $\\mathbb{E}w = pw + (1-p)0 = pw$."
   ]
  },
  {
   "cell_type": "markdown",
   "metadata": {},
   "source": [
    "### Часть 3: Batch Normalization"
   ]
  },
  {
   "cell_type": "markdown",
   "metadata": {},
   "source": [
    "Наконец, давайте рассмотрим Batch Normalization. Этот слой вычитает среднее и делит на стандартное отклонение. Среднее и дисперсия вычисляются по батчу независимо для каждого нейрона. У этого слоя есть две важные проблемы: его нельзя использовать при обучении с размером батча 1 и он делает элементы батча зависимыми. Давайте реализуем аналог батч нормализации: <a href=https://arxiv.org/pdf/1607.06450.pdf>Layer normalization</a>. В layer normalization среднее и дисперсия вычисляются по активациям нейронов, независимо для каждого объекта."
   ]
  },
  {
   "cell_type": "markdown",
   "metadata": {},
   "source": [
    "<i> 3.1 Реализуйте Layer Normalization </i>"
   ]
  },
  {
   "cell_type": "code",
   "execution_count": 75,
   "metadata": {},
   "outputs": [
    {
     "name": "stdout",
     "output_type": "stream",
     "text": [
      "Variable containing:\n",
      " 0.6271 -0.2275 -0.4893  0.7469\n",
      "[torch.FloatTensor of size 1x4]\n",
      "\n",
      "Variable containing:\n",
      " 0.6271 -0.2275 -0.4893  0.7469\n",
      " 0.6271 -0.2275 -0.4893  0.7469\n",
      "[torch.FloatTensor of size 2x4]\n",
      "\n"
     ]
    }
   ],
   "source": [
    "t1 = Variable(torch.zeros(5, 4))\n",
    "t2 = Variable(torch.Tensor(1, 4).normal_())\n",
    "print t2\n",
    "print t2.expand(2,4)"
   ]
  },
  {
   "cell_type": "code",
   "execution_count": 137,
   "metadata": {
    "collapsed": true
   },
   "outputs": [],
   "source": [
    "# полезные функции: .std(dim), .mean(dim)\n",
    "# не забывайте, что в pyTorch нету broadcasting (делайте .expand)\n",
    "class LayerNormalization(nn.Module):\n",
    "    def __init__(self, num_features, alpha=0.1):\n",
    "        super(LayerNormalization, self).__init__()\n",
    "        self.alpha = alpha\n",
    "        #не совсем понятно, как именно считать среднее, т.е. по каким размерностям\n",
    "        self.mean = Variable(torch.zeros(1), requires_grad=False)\n",
    "        self.std = Variable(torch.ones(1), requires_grad=False)\n",
    "        self.gamma = nn.Parameter(torch.Tensor(1, num_features).normal_())\n",
    "        self.beta = nn.Parameter(torch.Tensor(1, num_features).normal_())\n",
    "    \n",
    "    def forward(self, x):\n",
    "        eps = 1e-10\n",
    "        x_size = x.size()\n",
    "        self.mean = (1.0 - self.alpha) * self.mean + self.alpha * x.mean()\n",
    "        self.std = (1.0 - self.alpha) * self.std + self.alpha * x.std()\n",
    "        if(self.training):\n",
    "            x_mean = x.mean(dim=1, keepdim=True)\n",
    "            x_std = x.std(dim=1, keepdim=True)\n",
    "            x_norm = (x - x_mean) / (x_std + eps)\n",
    "        else:\n",
    "            x_norm = (x - self.mean.expand(x_size)) / (self.std.expand(x_size) + eps)\n",
    "            ###при подсчете среднего тем же способом, что на трейне, результат получался немного лучше\n",
    "            ###x_norm = (x - x_mean) / (x_std + eps)\n",
    "        output = self.gamma.expand(x_size) * x_norm  - self.beta.expand(x_size)\n",
    "        return output"
   ]
  },
  {
   "cell_type": "markdown",
   "metadata": {},
   "source": [
    "<i> \n",
    "3.2 Сравните графики обучения нейроных сетей:\n",
    "1. 784 -> 200 -> 200 -> 10 с ReLU и Batch normalization между всеми слоями \n",
    "2. 784 -> 200 -> 200 -> 10 с ReLU и Layer normalization между всеми слоями \n",
    "</i>"
   ]
  },
  {
   "cell_type": "code",
   "execution_count": 138,
   "metadata": {
    "collapsed": true
   },
   "outputs": [],
   "source": [
    "##### YOUR CODE HERE #####\n",
    "class Model_batch_norm(nn.Module):\n",
    "    def __init__(self):\n",
    "        super(Model_batch_norm, self).__init__()\n",
    "        self.model = nn.Sequential(nn.Linear(784, 200),\n",
    "                                   torch.nn.BatchNorm1d(200),\n",
    "                                   nn.ReLU(),\n",
    "                                   nn.Linear(200, 200),\n",
    "                                   torch.nn.BatchNorm1d(200),\n",
    "                                   nn.ReLU(),\n",
    "                                   nn.Linear(200, 10))\n",
    "    \n",
    "    def forward(self, x):\n",
    "        return self.model(x)\n",
    "    \n",
    "class Model_layer_norm(nn.Module):\n",
    "    def __init__(self):\n",
    "        super(Model_layer_norm, self).__init__()\n",
    "        self.model = nn.Sequential(nn.Linear(784, 200),\n",
    "                                   LayerNormalization(200),\n",
    "                                   nn.ReLU(),\n",
    "                                   nn.Linear(200, 200),\n",
    "                                   LayerNormalization(200),\n",
    "                                   nn.ReLU(),\n",
    "                                   nn.Linear(200, 10))\n",
    "    \n",
    "    def forward(self, x):\n",
    "        return self.model(x)"
   ]
  },
  {
   "cell_type": "code",
   "execution_count": 139,
   "metadata": {},
   "outputs": [
    {
     "data": {
      "image/png": "[encoded data removed]",
      "text/plain": [
       "<matplotlib.figure.Figure at 0x7f5b1555ac90>"
      ]
     },
     "metadata": {},
     "output_type": "display_data"
    },
    {
     "name": "stdout",
     "output_type": "stream",
     "text": [
      "Accuracy: 0.977935\n"
     ]
    }
   ],
   "source": [
    "model = Model_batch_norm()\n",
    "apply_net(model, train_loader, test_loader, Epoch=10, learning_rate=0.01)"
   ]
  },
  {
   "cell_type": "code",
   "execution_count": 140,
   "metadata": {},
   "outputs": [
    {
     "data": {
      "image/png": "[encoded data removed]",
      "text/plain": [
       "<matplotlib.figure.Figure at 0x7f5b1108f210>"
      ]
     },
     "metadata": {},
     "output_type": "display_data"
    },
    {
     "name": "stdout",
     "output_type": "stream",
     "text": [
      "Accuracy: 0.974141\n"
     ]
    }
   ],
   "source": [
    "model = Model_layer_norm()\n",
    "apply_net(model, train_loader, test_loader, Epoch=10, learning_rate=0.01)"
   ]
  },
  {
   "cell_type": "markdown",
   "metadata": {},
   "source": [
    "<i> 3.3 Сделайте выводы по третьей части </i>"
   ]
  },
  {
   "cell_type": "markdown",
   "metadata": {},
   "source": [
    "У layer normalization немного лучше скорость сходимости, но немного хуже точность."
   ]
  },
  {
   "cell_type": "markdown",
   "metadata": {},
   "source": [
    "#### Feedback (опционально)"
   ]
  },
  {
   "cell_type": "markdown",
   "metadata": {},
   "source": [
    "Здесь вы можете оставить список опечаток из лекции или семинара:"
   ]
  },
  {
   "cell_type": "raw",
   "metadata": {},
   "source": []
  },
  {
   "cell_type": "markdown",
   "metadata": {},
   "source": [
    "Здесь вы можете оставить комментарии по лекции или семинару:"
   ]
  },
  {
   "cell_type": "raw",
   "metadata": {},
   "source": []
  }
 ],
 "metadata": {
  "kernelspec": {
   "display_name": "Python 2",
   "language": "python",
   "name": "python2"
  },
  "language_info": {
   "codemirror_mode": {
    "name": "ipython",
    "version": 2
   },
   "file_extension": ".py",
   "mimetype": "text/x-python",
   "name": "python",
   "nbconvert_exporter": "python",
   "pygments_lexer": "ipython2",
   "version": "2.7.13"
  },
  "latex_envs": {
   "bibliofile": "biblio.bib",
   "cite_by": "apalike",
   "current_citInitial": 1,
   "eqLabelWithNumbers": true,
   "eqNumInitial": 0
  }
 },
 "nbformat": 4,
 "nbformat_minor": 1
}
